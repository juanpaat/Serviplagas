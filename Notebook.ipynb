{
 "cells": [
  {
   "cell_type": "code",
   "id": "initial_id",
   "metadata": {
    "collapsed": true
   },
   "source": [
    "from data_processing.data_loader import load_data\n",
    "\n",
    "from data_processing.data_cleaner import transform_preventivos_df\n",
    "from data_processing.data_cleaner import transform_roedores_df\n",
    "from data_processing.data_cleaner import transform_lamparas_df\n",
    "\n",
    "from visualisations.Preventivos import generate_order_area_plot\n",
    "from visualisations.Preventivos import generate_plagas_timeseries_facet\n",
    "from visualisations.Preventivos import generate_total_plagas_trend_plot\n",
    "\n",
    "from visualisations.Roedores import generate_roedores_station_status_plot\n",
    "from visualisations.Roedores import plot_tendencia_eliminacion_mensual\n",
    "\n",
    "from visualisations.Lamparas import plot_estado_lamparas_por_mes\n",
    "from visualisations.Lamparas import plot_estado_lamparas_con_leyenda\n",
    "from visualisations.Lamparas import plot_capturas_especies_por_mes\n",
    "from visualisations.Lamparas import plot_tendencia_total_capturas"
   ],
   "outputs": [],
   "execution_count": null
  },
  {
   "metadata": {},
   "cell_type": "code",
   "source": [
    "df_preventivo = load_data('data/Preventivos.csv')\n",
    "df_roedores = load_data('data/Roedores.csv')\n",
    "df_lamparas = load_data('data/Lámparas.csv')"
   ],
   "id": "e8cdc573d36581d",
   "outputs": [],
   "execution_count": null
  },
  {
   "metadata": {},
   "cell_type": "code",
   "source": [
    "df_preventivo = transform_preventivos_df(df_preventivo)\n",
    "df_roedores = transform_roedores_df(df_roedores)\n",
    "df_lamparas = transform_lamparas_df(df_lamparas)"
   ],
   "id": "8efbebf79b3c159e",
   "outputs": [],
   "execution_count": null
  },
  {
   "metadata": {},
   "cell_type": "markdown",
   "source": "# Preventivos",
   "id": "4e647e2f036224bb"
  },
  {
   "metadata": {},
   "cell_type": "code",
   "outputs": [],
   "execution_count": null,
   "source": "",
   "id": "26278c616f9066f5"
  },
  {
   "metadata": {},
   "cell_type": "code",
   "source": "generate_order_area_plot(df_preventivo)",
   "id": "6a5424288523e6dc",
   "outputs": [],
   "execution_count": null
  },
  {
   "metadata": {},
   "cell_type": "code",
   "source": "generate_plagas_timeseries_facet(df_preventivo)",
   "id": "b6a44d5654abcbbe",
   "outputs": [],
   "execution_count": null
  },
  {
   "metadata": {},
   "cell_type": "code",
   "source": "generate_total_plagas_trend_plot(df_preventivo)",
   "id": "d5fc568d56e558fb",
   "outputs": [],
   "execution_count": null
  },
  {
   "metadata": {},
   "cell_type": "markdown",
   "source": "# Roedores",
   "id": "80f228a0891b2cfc"
  },
  {
   "metadata": {},
   "cell_type": "code",
   "source": "generate_roedores_station_status_plot(df_roedores)",
   "id": "bd63730ac701fa1e",
   "outputs": [],
   "execution_count": null
  },
  {
   "metadata": {},
   "cell_type": "code",
   "source": "plot_tendencia_eliminacion_mensual(df_roedores)",
   "id": "7a0ce65cf3b3919b",
   "outputs": [],
   "execution_count": null
  },
  {
   "metadata": {},
   "cell_type": "markdown",
   "source": "# Lamparas",
   "id": "831adc36f2017549"
  },
  {
   "metadata": {},
   "cell_type": "code",
   "source": "plot_estado_lamparas_por_mes(df_lamparas)",
   "id": "760224117d9f12e3",
   "outputs": [],
   "execution_count": null
  },
  {
   "metadata": {},
   "cell_type": "code",
   "source": "plot_estado_lamparas_con_leyenda(df_lamparas)",
   "id": "7243a989d9a232a4",
   "outputs": [],
   "execution_count": null
  },
  {
   "metadata": {},
   "cell_type": "code",
   "source": "plot_capturas_especies_por_mes(df_lamparas)",
   "id": "28a055361e048ab5",
   "outputs": [],
   "execution_count": null
  },
  {
   "metadata": {},
   "cell_type": "code",
   "source": "plot_tendencia_total_capturas(df_lamparas)",
   "id": "595d43cb0260daab",
   "outputs": [],
   "execution_count": null
  }
 ],
 "metadata": {
  "kernelspec": {
   "display_name": "Python 3",
   "language": "python",
   "name": "python3"
  },
  "language_info": {
   "codemirror_mode": {
    "name": "ipython",
    "version": 2
   },
   "file_extension": ".py",
   "mimetype": "text/x-python",
   "name": "python",
   "nbconvert_exporter": "python",
   "pygments_lexer": "ipython2",
   "version": "2.7.6"
  }
 },
 "nbformat": 4,
 "nbformat_minor": 5
}
